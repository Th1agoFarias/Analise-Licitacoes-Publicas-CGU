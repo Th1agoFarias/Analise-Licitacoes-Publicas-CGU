{
 "cells": [
  {
   "cell_type": "code",
   "execution_count": 20,
   "id": "745820ee-93e7-4e35-b41e-74319f7dcfa3",
   "metadata": {},
   "outputs": [],
   "source": [
    "import os\n",
    "from dotenv import load_dotenv\n",
    "import pandas as pd\n",
    "import basedosdados as bd\n",
    "\n",
    "load_dotenv()\n",
    "billing_id = os.getenv(\"BILLING_ID\")"
   ]
  },
  {
   "cell_type": "markdown",
   "id": "d4e0e37d",
   "metadata": {},
   "source": [
    "O número de licitações públicas segue um padrão mensal ou varia significativamente ao longo do tempo ?"
   ]
  },
  {
   "cell_type": "code",
   "execution_count": 18,
   "id": "0f763827",
   "metadata": {},
   "outputs": [
    {
     "name": "stdout",
     "output_type": "stream",
     "text": [
      "Downloading: 100%|\u001b[32m██████████\u001b[0m|\n"
     ]
    },
    {
     "data": {
      "text/html": [
       "<div>\n",
       "<style scoped>\n",
       "    .dataframe tbody tr th:only-of-type {\n",
       "        vertical-align: middle;\n",
       "    }\n",
       "\n",
       "    .dataframe tbody tr th {\n",
       "        vertical-align: top;\n",
       "    }\n",
       "\n",
       "    .dataframe thead th {\n",
       "        text-align: right;\n",
       "    }\n",
       "</style>\n",
       "<table border=\"1\" class=\"dataframe\">\n",
       "  <thead>\n",
       "    <tr style=\"text-align: right;\">\n",
       "      <th></th>\n",
       "      <th>ano_mes</th>\n",
       "      <th>total_licitacoes</th>\n",
       "    </tr>\n",
       "  </thead>\n",
       "  <tbody>\n",
       "    <tr>\n",
       "      <th>0</th>\n",
       "      <td>2023-10</td>\n",
       "      <td>283</td>\n",
       "    </tr>\n",
       "    <tr>\n",
       "      <th>1</th>\n",
       "      <td>2023-09</td>\n",
       "      <td>385</td>\n",
       "    </tr>\n",
       "    <tr>\n",
       "      <th>2</th>\n",
       "      <td>2023-08</td>\n",
       "      <td>408</td>\n",
       "    </tr>\n",
       "    <tr>\n",
       "      <th>3</th>\n",
       "      <td>2023-07</td>\n",
       "      <td>359</td>\n",
       "    </tr>\n",
       "    <tr>\n",
       "      <th>4</th>\n",
       "      <td>2023-06</td>\n",
       "      <td>333</td>\n",
       "    </tr>\n",
       "    <tr>\n",
       "      <th>...</th>\n",
       "      <td>...</td>\n",
       "      <td>...</td>\n",
       "    </tr>\n",
       "    <tr>\n",
       "      <th>138</th>\n",
       "      <td>2012-03</td>\n",
       "      <td>1</td>\n",
       "    </tr>\n",
       "    <tr>\n",
       "      <th>139</th>\n",
       "      <td>2011-12</td>\n",
       "      <td>2</td>\n",
       "    </tr>\n",
       "    <tr>\n",
       "      <th>140</th>\n",
       "      <td>2011-11</td>\n",
       "      <td>1</td>\n",
       "    </tr>\n",
       "    <tr>\n",
       "      <th>141</th>\n",
       "      <td>2011-09</td>\n",
       "      <td>1</td>\n",
       "    </tr>\n",
       "    <tr>\n",
       "      <th>142</th>\n",
       "      <td>2011-05</td>\n",
       "      <td>1</td>\n",
       "    </tr>\n",
       "  </tbody>\n",
       "</table>\n",
       "<p>143 rows × 2 columns</p>\n",
       "</div>"
      ],
      "text/plain": [
       "     ano_mes  total_licitacoes\n",
       "0    2023-10               283\n",
       "1    2023-09               385\n",
       "2    2023-08               408\n",
       "3    2023-07               359\n",
       "4    2023-06               333\n",
       "..       ...               ...\n",
       "138  2012-03                 1\n",
       "139  2011-12                 2\n",
       "140  2011-11                 1\n",
       "141  2011-09                 1\n",
       "142  2011-05                 1\n",
       "\n",
       "[143 rows x 2 columns]"
      ]
     },
     "execution_count": 18,
     "metadata": {},
     "output_type": "execute_result"
    }
   ],
   "source": [
    "query = \"\"\"\n",
    "  SELECT\n",
    "  FORMAT_DATE('%Y-%m', data_abertura) AS ano_mes,\n",
    "  COUNT(DISTINCT id_licitacao) AS total_licitacoes\n",
    "FROM basedosdados.br_cgu_licitacao_contrato.licitacao\n",
    "WHERE data_abertura IS NOT NULL\n",
    "GROUP BY ano_mes\n",
    "ORDER BY ano_mes DESC;\n",
    "\"\"\"\n",
    "\n",
    "bd.read_sql(query = query, billing_project_id = billing_id)"
   ]
  },
  {
   "cell_type": "markdown",
   "id": "3013ee17",
   "metadata": {},
   "source": [
    "Quais órgãos públicos mais licitam e movimentam recursos em contratações?\"\n",
    "\n"
   ]
  },
  {
   "cell_type": "markdown",
   "id": "040dc01b",
   "metadata": {},
   "source": []
  },
  {
   "cell_type": "markdown",
   "id": "54276f4c",
   "metadata": {},
   "source": [
    "Qual é o nível médio de concorrência nas licitações?"
   ]
  },
  {
   "cell_type": "markdown",
   "id": "73f7e89e",
   "metadata": {},
   "source": []
  },
  {
   "cell_type": "markdown",
   "id": "2226fbb8",
   "metadata": {},
   "source": [
    "Quais modalidades de licitação concentram os itens mais caros?\""
   ]
  },
  {
   "cell_type": "code",
   "execution_count": null,
   "id": "c957c690",
   "metadata": {},
   "outputs": [],
   "source": []
  },
  {
   "cell_type": "markdown",
   "id": "6dcb05b4",
   "metadata": {},
   "source": [
    "Quais participantes têm mais vitórias em licitações dentro de cada órgão?"
   ]
  },
  {
   "cell_type": "markdown",
   "id": "686aa049",
   "metadata": {},
   "source": []
  },
  {
   "cell_type": "markdown",
   "id": "39bd8051",
   "metadata": {},
   "source": [
    "Em quais UFs os órgãos públicos mais realizam licitações?"
   ]
  },
  {
   "cell_type": "markdown",
   "id": "23e7d7b5",
   "metadata": {},
   "source": []
  }
 ],
 "metadata": {
  "kernelspec": {
   "display_name": "venv",
   "language": "python",
   "name": "python3"
  },
  "language_info": {
   "codemirror_mode": {
    "name": "ipython",
    "version": 3
   },
   "file_extension": ".py",
   "mimetype": "text/x-python",
   "name": "python",
   "nbconvert_exporter": "python",
   "pygments_lexer": "ipython3",
   "version": "3.12.3"
  }
 },
 "nbformat": 4,
 "nbformat_minor": 5
}
