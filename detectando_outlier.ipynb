{
 "cells": [
  {
   "cell_type": "code",
   "execution_count": 1,
   "id": "7c05fdeb",
   "metadata": {},
   "outputs": [],
   "source": [
    "import os\n",
    "from dotenv import load_dotenv\n",
    "import pandas as pd\n",
    "import basedosdados as bd\n",
    "\n",
    "load_dotenv()\n",
    "billing_id = os.getenv(\"BILLING_ID\")"
   ]
  },
  {
   "cell_type": "code",
   "execution_count": 2,
   "id": "5c2f8b9b",
   "metadata": {},
   "outputs": [
    {
     "name": "stdout",
     "output_type": "stream",
     "text": [
      "Downloading: 100%|\u001b[32m██████████\u001b[0m|\n"
     ]
    },
    {
     "data": {
      "text/html": [
       "<div>\n",
       "<style scoped>\n",
       "    .dataframe tbody tr th:only-of-type {\n",
       "        vertical-align: middle;\n",
       "    }\n",
       "\n",
       "    .dataframe tbody tr th {\n",
       "        vertical-align: top;\n",
       "    }\n",
       "\n",
       "    .dataframe thead th {\n",
       "        text-align: right;\n",
       "    }\n",
       "</style>\n",
       "<table border=\"1\" class=\"dataframe\">\n",
       "  <thead>\n",
       "    <tr style=\"text-align: right;\">\n",
       "      <th></th>\n",
       "      <th>modalidade_compra</th>\n",
       "      <th>total_valor</th>\n",
       "      <th>min_valor</th>\n",
       "      <th>max_valor</th>\n",
       "      <th>avg_valor</th>\n",
       "    </tr>\n",
       "  </thead>\n",
       "  <tbody>\n",
       "    <tr>\n",
       "      <th>0</th>\n",
       "      <td>Pregão - Registro de Preço</td>\n",
       "      <td>3.852628e+12</td>\n",
       "      <td>0.0</td>\n",
       "      <td>2.434320e+12</td>\n",
       "      <td>1.958950e+07</td>\n",
       "    </tr>\n",
       "    <tr>\n",
       "      <th>1</th>\n",
       "      <td>Pregão</td>\n",
       "      <td>1.571917e+11</td>\n",
       "      <td>0.0</td>\n",
       "      <td>3.187640e+09</td>\n",
       "      <td>9.411662e+05</td>\n",
       "    </tr>\n",
       "  </tbody>\n",
       "</table>\n",
       "</div>"
      ],
      "text/plain": [
       "            modalidade_compra   total_valor  min_valor     max_valor  \\\n",
       "0  Pregão - Registro de Preço  3.852628e+12        0.0  2.434320e+12   \n",
       "1                      Pregão  1.571917e+11        0.0  3.187640e+09   \n",
       "\n",
       "      avg_valor  \n",
       "0  1.958950e+07  \n",
       "1  9.411662e+05  "
      ]
     },
     "execution_count": 2,
     "metadata": {},
     "output_type": "execute_result"
    }
   ],
   "source": [
    "query=\"\"\"\n",
    "    SELECT\n",
    "    modalidade_compra,\n",
    "    SUM(valor_licitacao) as total_valor,\n",
    "    MIN(valor_licitacao) as min_valor,\n",
    "    MAX(valor_licitacao) as max_valor,\n",
    "    AVG(valor_licitacao) as avg_valor\n",
    "    FROM `basedosdados.br_cgu_licitacao_contrato.licitacao`\n",
    "    WHERE modalidade_compra IN ('Pregão', 'Pregão - Registro de Preço')\n",
    "    GROUP BY modalidade_compra\n",
    "    ORDER BY total_valor DESC;\n",
    "\"\"\"\n",
    "\n",
    "bd.read_sql(query = query, billing_project_id=  billing_id)"
   ]
  },
  {
   "cell_type": "code",
   "execution_count": null,
   "id": "8dec0c78",
   "metadata": {},
   "outputs": [],
   "source": []
  }
 ],
 "metadata": {
  "kernelspec": {
   "display_name": "venv",
   "language": "python",
   "name": "python3"
  },
  "language_info": {
   "codemirror_mode": {
    "name": "ipython",
    "version": 3
   },
   "file_extension": ".py",
   "mimetype": "text/x-python",
   "name": "python",
   "nbconvert_exporter": "python",
   "pygments_lexer": "ipython3",
   "version": "3.12.3"
  }
 },
 "nbformat": 4,
 "nbformat_minor": 5
}
